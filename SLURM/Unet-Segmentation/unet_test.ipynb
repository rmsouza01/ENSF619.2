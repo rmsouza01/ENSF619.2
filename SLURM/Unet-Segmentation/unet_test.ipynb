{
 "cells": [
  {
   "cell_type": "code",
   "execution_count": 1,
   "id": "7673c04a",
   "metadata": {},
   "outputs": [],
   "source": [
    "import numpy as np\n",
    "import tensorflow as tf\n",
    "from unet import unet\n",
    "import matplotlib.pylab as plt\n",
    "import glob\n",
    "import os\n",
    "from utils import dice_coef_loss, dice_coef\n",
    "import nibabel as nib\n",
    "from utils import min_max_normalization, dice_coefficient"
   ]
  },
  {
   "cell_type": "code",
   "execution_count": 2,
   "id": "c9b10e61",
   "metadata": {},
   "outputs": [
    {
     "name": "stdout",
     "output_type": "stream",
     "text": [
      "C:\\Users\\rober\\OneDrive\\Documents\\Datasets\\CC359\\Original\\CC0001_philips_15_55_M.nii.gz\n"
     ]
    }
   ],
   "source": [
    "data_path = \"C:\\\\Users\\\\rober\\\\OneDrive\\\\Documents\\\\Datasets\\\\CC359\\\\Original\\\\\"\n",
    "masks_path = \"C:\\\\Users\\\\rober\\\\OneDrive\\\\Documents\\\\Datasets\\\\CC359\\\\STAPLE\\\\\"\n",
    "\n",
    "source_domain_test = np.loadtxt(\"C:/Users/rober/OneDrive/Documents/GitHub/ENSF619.2/SLURM/Unet-Segmentation/Data-split/source_domain_test_set.txt\",dtype = str)\n",
    "target_domain_test = np.loadtxt(\"C:/Users/rober/OneDrive/Documents/GitHub/ENSF619.2/SLURM/Unet-Segmentation/Data-split/target_domain_test_set.txt\",dtype = str)\n",
    "\n",
    "source_test_images = [os.path.join(data_path,f + \".gz\") for f in source_domain_test]\n",
    "source_test_masks = [os.path.join(masks_path,f.split(\".nii\")[0] + \"_staple.nii.gz\") for f in source_domain_test]\n",
    "\n",
    "\n",
    "target_test_images = [os.path.join(data_path,f + \".gz\") for f in source_domain_test]\n",
    "target_test_masks  = [os.path.join(masks_path,f.split(\".nii\")[0] + \"_staple.nii.gz\") for f in source_domain_test]\n",
    "print(source_test_images[0])"
   ]
  },
  {
   "cell_type": "code",
   "execution_count": 3,
   "id": "e161331b",
   "metadata": {},
   "outputs": [],
   "source": [
    "model_name = \"unet_ss.h5\"\n",
    "model = unet(input_shape=(None, None, 1))\n",
    "model.compile(optimizer=tf.keras.optimizers.Adam(learning_rate = 1e-4),\n",
    "              loss= dice_coef_loss,\n",
    "              metrics=[dice_coef])\n",
    "\n",
    "model.load_weights(model_name)"
   ]
  },
  {
   "cell_type": "code",
   "execution_count": 4,
   "id": "669ac6de",
   "metadata": {},
   "outputs": [
    {
     "data": {
      "image/png": "[encoded data removed]",
      "text/plain": [
       "<Figure size 432x288 with 1 Axes>"
      ]
     },
     "metadata": {
      "needs_background": "light"
     },
     "output_type": "display_data"
    },
    {
     "name": "stdout",
     "output_type": "stream",
     "text": [
      "0.9843816410988159\n"
     ]
    }
   ],
   "source": [
    "for ii in range(len(source_test_images)):\n",
    "    data = nib.load(source_test_images[ii]).get_fdata()\n",
    "    data = min_max_normalization(data)\n",
    "    mask = nib.load(source_test_masks[ii]).get_fdata() > 0.5\n",
    "    H,W,Z = data.shape\n",
    "    if W%16!=0:\n",
    "        Wpad = 16*(W//16 +1)\n",
    "    else:\n",
    "        Wpad = W\n",
    "    if Z%16!=0:\n",
    "        Zpad = 16*(Z//16 +1)\n",
    "    else:\n",
    "        Zpad = Z\n",
    "    data_pad = np.zeros((H,Wpad,Zpad,1))\n",
    "    data_pad[:,:W,:Z,0] = data\n",
    "    pred = model.predict(data_pad)[:,:W,:Z,0] > 0.5\n",
    "    plt.figure()\n",
    "    plt.imshow(data[50],cmap = \"gray\")\n",
    "    plt.imshow(pred[50],cmap = \"gray\")\n",
    "    plt.show()\n",
    "    print(dice_coefficient(mask,pred))\n",
    "    break"
   ]
  },
  {
   "cell_type": "code",
   "execution_count": null,
   "id": "29191258",
   "metadata": {},
   "outputs": [],
   "source": []
  }
 ],
 "metadata": {
  "kernelspec": {
   "display_name": "Python 3",
   "language": "python",
   "name": "python3"
  },
  "language_info": {
   "codemirror_mode": {
    "name": "ipython",
    "version": 3
   },
   "file_extension": ".py",
   "mimetype": "text/x-python",
   "name": "python",
   "nbconvert_exporter": "python",
   "pygments_lexer": "ipython3",
   "version": "3.8.8"
  }
 },
 "nbformat": 4,
 "nbformat_minor": 5
}
