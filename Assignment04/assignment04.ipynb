{
 "cells": [
  {
   "cell_type": "markdown",
   "id": "bc478c0d",
   "metadata": {},
   "source": [
    "# Assignment 04 - Generative Deep Learning\n",
    "\n",
    "# Assignment #04\n",
    "\n",
    "This assignment is composed of 1 tasks that your teams is supposed complete.\n",
    "\n",
    "1. Document and explain any of the models explained between chapters 3 and 5 of the book:\n",
    "    - Foster, D., 2019. Generative deep learning: teaching machines to paint, write, compose, and play. O'Reilly Media.\n",
    "The book is available to you through the [University of Calgary library website](https://library.ucalgary.ca/). The code of the book is available in this [GitHub repository](https://github.com/davidADSP/GDL_code). Your task is just to make sure the code is running properly, document and explain it. Think of this assignment as the creation of a tutorial for an undergraduate engineering student. \n",
    "\n",
    "The deliverable of this assignment is this jupyter-notebook completed with your solution. \n",
    "    - Create a folder assignment-04. Put the jupyter-notebook with your solution in this repository and send the instructor the link. The repository is the same repository that your team created for assignments 1, 3 and your team final project.\n",
    "\n",
    "You are being assessed based on:\n",
    "\n",
    "1. Code execution - 25% \n",
    "2. Clarity of the code (e.g., easy to follow, has pertinent comments, etc.) - 25%\n",
    "3. Proper documentation of the notebook - 50% \n",
    "\n",
    "More details about the assessment are available in the rubric document in the class GitHub repository."
   ]
  },
  {
   "cell_type": "code",
   "execution_count": null,
   "id": "df78d2d8",
   "metadata": {},
   "outputs": [],
   "source": []
  }
 ],
 "metadata": {
  "kernelspec": {
   "display_name": "Python 3",
   "language": "python",
   "name": "python3"
  },
  "language_info": {
   "codemirror_mode": {
    "name": "ipython",
    "version": 3
   },
   "file_extension": ".py",
   "mimetype": "text/x-python",
   "name": "python",
   "nbconvert_exporter": "python",
   "pygments_lexer": "ipython3",
   "version": "3.8.8"
  }
 },
 "nbformat": 4,
 "nbformat_minor": 5
}
